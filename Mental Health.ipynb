{
 "cells": [
  {
   "cell_type": "markdown",
   "metadata": {},
   "source": [
    "#Mental Health Data Analysis in Tech Company"
   ]
  },
  {
   "cell_type": "markdown",
   "metadata": {},
   "source": [
    "Kesehatan mental sama pentingnya dengan kesehatan fisik. Oleh karena itu, kesehatan mental perlu dijaga oleh setiap individu. \n",
    "Penelitian ini bertujuan untuk menganalisis kondisi kesehatan mental pekerja di Amerika, khususnya di perusahaan it. Sumber data dari situs https://www.kaggle.com/osmi/mental-health-in-tech-2016, di mana data dikumpulkan melalui survei oleh OSMI (Open Sourcing Mental Illness)."
   ]
  },
  {
   "cell_type": "code",
   "execution_count": 1,
   "metadata": {},
   "outputs": [],
   "source": [
    "import numpy as np\n",
    "import pandas as pd"
   ]
  },
  {
   "cell_type": "code",
   "execution_count": 3,
   "metadata": {},
   "outputs": [],
   "source": [
    "#import dataset\n",
    "mh = pd.read_csv(\"D:/Mental Health Project/Data/data mental health.csv\")"
   ]
  },
  {
   "cell_type": "code",
   "execution_count": 4,
   "metadata": {},
   "outputs": [
    {
     "data": {
      "text/html": [
       "<div>\n",
       "<style scoped>\n",
       "    .dataframe tbody tr th:only-of-type {\n",
       "        vertical-align: middle;\n",
       "    }\n",
       "\n",
       "    .dataframe tbody tr th {\n",
       "        vertical-align: top;\n",
       "    }\n",
       "\n",
       "    .dataframe thead th {\n",
       "        text-align: right;\n",
       "    }\n",
       "</style>\n",
       "<table border=\"1\" class=\"dataframe\">\n",
       "  <thead>\n",
       "    <tr style=\"text-align: right;\">\n",
       "      <th></th>\n",
       "      <th>Are you self-employed?</th>\n",
       "      <th>How many employees does your company or organization have?</th>\n",
       "      <th>Is your employer primarily a tech company/organization?</th>\n",
       "      <th>Is your primary role within your company related to tech/IT?</th>\n",
       "      <th>Does your employer provide mental health benefits as part of healthcare coverage?</th>\n",
       "      <th>Do you know the options for mental health care available under your employer-provided coverage?</th>\n",
       "      <th>Has your employer ever formally discussed mental health (for example, as part of a wellness campaign or other official communication)?</th>\n",
       "      <th>Does your employer offer resources to learn more about mental health concerns and options for seeking help?</th>\n",
       "      <th>Is your anonymity protected if you choose to take advantage of mental health or substance abuse treatment resources provided by your employer?</th>\n",
       "      <th>If a mental health issue prompted you to request a medical leave from work, asking for that leave would be:</th>\n",
       "      <th>...</th>\n",
       "      <th>If you have a mental health issue, do you feel that it interferes with your work when being treated effectively?</th>\n",
       "      <th>If you have a mental health issue, do you feel that it interferes with your work when NOT being treated effectively?</th>\n",
       "      <th>What is your age?</th>\n",
       "      <th>What is your gender?</th>\n",
       "      <th>What country do you live in?</th>\n",
       "      <th>What US state or territory do you live in?</th>\n",
       "      <th>What country do you work in?</th>\n",
       "      <th>What US state or territory do you work in?</th>\n",
       "      <th>Which of the following best describes your work position?</th>\n",
       "      <th>Do you work remotely?</th>\n",
       "    </tr>\n",
       "  </thead>\n",
       "  <tbody>\n",
       "    <tr>\n",
       "      <th>0</th>\n",
       "      <td>0</td>\n",
       "      <td>26-100</td>\n",
       "      <td>1.0</td>\n",
       "      <td>NaN</td>\n",
       "      <td>Not eligible for coverage / N/A</td>\n",
       "      <td>NaN</td>\n",
       "      <td>No</td>\n",
       "      <td>No</td>\n",
       "      <td>I don't know</td>\n",
       "      <td>Very easy</td>\n",
       "      <td>...</td>\n",
       "      <td>Not applicable to me</td>\n",
       "      <td>Not applicable to me</td>\n",
       "      <td>39</td>\n",
       "      <td>Male</td>\n",
       "      <td>United Kingdom</td>\n",
       "      <td>NaN</td>\n",
       "      <td>United Kingdom</td>\n",
       "      <td>NaN</td>\n",
       "      <td>Back-end Developer</td>\n",
       "      <td>Sometimes</td>\n",
       "    </tr>\n",
       "    <tr>\n",
       "      <th>1</th>\n",
       "      <td>0</td>\n",
       "      <td>25-Jun</td>\n",
       "      <td>1.0</td>\n",
       "      <td>NaN</td>\n",
       "      <td>No</td>\n",
       "      <td>Yes</td>\n",
       "      <td>Yes</td>\n",
       "      <td>Yes</td>\n",
       "      <td>Yes</td>\n",
       "      <td>Somewhat easy</td>\n",
       "      <td>...</td>\n",
       "      <td>Rarely</td>\n",
       "      <td>Sometimes</td>\n",
       "      <td>29</td>\n",
       "      <td>male</td>\n",
       "      <td>United States of America</td>\n",
       "      <td>Illinois</td>\n",
       "      <td>United States of America</td>\n",
       "      <td>Illinois</td>\n",
       "      <td>Back-end Developer|Front-end Developer</td>\n",
       "      <td>Never</td>\n",
       "    </tr>\n",
       "    <tr>\n",
       "      <th>2</th>\n",
       "      <td>0</td>\n",
       "      <td>25-Jun</td>\n",
       "      <td>1.0</td>\n",
       "      <td>NaN</td>\n",
       "      <td>No</td>\n",
       "      <td>NaN</td>\n",
       "      <td>No</td>\n",
       "      <td>No</td>\n",
       "      <td>I don't know</td>\n",
       "      <td>Neither easy nor difficult</td>\n",
       "      <td>...</td>\n",
       "      <td>Not applicable to me</td>\n",
       "      <td>Not applicable to me</td>\n",
       "      <td>38</td>\n",
       "      <td>Male</td>\n",
       "      <td>United Kingdom</td>\n",
       "      <td>NaN</td>\n",
       "      <td>United Kingdom</td>\n",
       "      <td>NaN</td>\n",
       "      <td>Back-end Developer</td>\n",
       "      <td>Always</td>\n",
       "    </tr>\n",
       "    <tr>\n",
       "      <th>3</th>\n",
       "      <td>1</td>\n",
       "      <td>NaN</td>\n",
       "      <td>NaN</td>\n",
       "      <td>NaN</td>\n",
       "      <td>NaN</td>\n",
       "      <td>NaN</td>\n",
       "      <td>NaN</td>\n",
       "      <td>NaN</td>\n",
       "      <td>NaN</td>\n",
       "      <td>NaN</td>\n",
       "      <td>...</td>\n",
       "      <td>Sometimes</td>\n",
       "      <td>Sometimes</td>\n",
       "      <td>43</td>\n",
       "      <td>male</td>\n",
       "      <td>United Kingdom</td>\n",
       "      <td>NaN</td>\n",
       "      <td>United Kingdom</td>\n",
       "      <td>NaN</td>\n",
       "      <td>Supervisor/Team Lead</td>\n",
       "      <td>Sometimes</td>\n",
       "    </tr>\n",
       "    <tr>\n",
       "      <th>4</th>\n",
       "      <td>0</td>\n",
       "      <td>25-Jun</td>\n",
       "      <td>0.0</td>\n",
       "      <td>1.0</td>\n",
       "      <td>Yes</td>\n",
       "      <td>Yes</td>\n",
       "      <td>No</td>\n",
       "      <td>No</td>\n",
       "      <td>No</td>\n",
       "      <td>Neither easy nor difficult</td>\n",
       "      <td>...</td>\n",
       "      <td>Sometimes</td>\n",
       "      <td>Sometimes</td>\n",
       "      <td>43</td>\n",
       "      <td>Female</td>\n",
       "      <td>United States of America</td>\n",
       "      <td>Illinois</td>\n",
       "      <td>United States of America</td>\n",
       "      <td>Illinois</td>\n",
       "      <td>Executive Leadership|Supervisor/Team Lead|Dev ...</td>\n",
       "      <td>Sometimes</td>\n",
       "    </tr>\n",
       "  </tbody>\n",
       "</table>\n",
       "<p>5 rows × 63 columns</p>\n",
       "</div>"
      ],
      "text/plain": [
       "   Are you self-employed?  \\\n",
       "0                       0   \n",
       "1                       0   \n",
       "2                       0   \n",
       "3                       1   \n",
       "4                       0   \n",
       "\n",
       "  How many employees does your company or organization have?  \\\n",
       "0                                             26-100           \n",
       "1                                             25-Jun           \n",
       "2                                             25-Jun           \n",
       "3                                                NaN           \n",
       "4                                             25-Jun           \n",
       "\n",
       "   Is your employer primarily a tech company/organization?  \\\n",
       "0                                                1.0         \n",
       "1                                                1.0         \n",
       "2                                                1.0         \n",
       "3                                                NaN         \n",
       "4                                                0.0         \n",
       "\n",
       "   Is your primary role within your company related to tech/IT?  \\\n",
       "0                                                NaN              \n",
       "1                                                NaN              \n",
       "2                                                NaN              \n",
       "3                                                NaN              \n",
       "4                                                1.0              \n",
       "\n",
       "  Does your employer provide mental health benefits as part of healthcare coverage?  \\\n",
       "0                    Not eligible for coverage / N/A                                  \n",
       "1                                                 No                                  \n",
       "2                                                 No                                  \n",
       "3                                                NaN                                  \n",
       "4                                                Yes                                  \n",
       "\n",
       "  Do you know the options for mental health care available under your employer-provided coverage?  \\\n",
       "0                                                NaN                                                \n",
       "1                                                Yes                                                \n",
       "2                                                NaN                                                \n",
       "3                                                NaN                                                \n",
       "4                                                Yes                                                \n",
       "\n",
       "  Has your employer ever formally discussed mental health (for example, as part of a wellness campaign or other official communication)?  \\\n",
       "0                                                 No                                                                                       \n",
       "1                                                Yes                                                                                       \n",
       "2                                                 No                                                                                       \n",
       "3                                                NaN                                                                                       \n",
       "4                                                 No                                                                                       \n",
       "\n",
       "  Does your employer offer resources to learn more about mental health concerns and options for seeking help?  \\\n",
       "0                                                 No                                                            \n",
       "1                                                Yes                                                            \n",
       "2                                                 No                                                            \n",
       "3                                                NaN                                                            \n",
       "4                                                 No                                                            \n",
       "\n",
       "  Is your anonymity protected if you choose to take advantage of mental health or substance abuse treatment resources provided by your employer?  \\\n",
       "0                                       I don't know                                                                                               \n",
       "1                                                Yes                                                                                               \n",
       "2                                       I don't know                                                                                               \n",
       "3                                                NaN                                                                                               \n",
       "4                                                 No                                                                                               \n",
       "\n",
       "  If a mental health issue prompted you to request a medical leave from work, asking for that leave would be:  \\\n",
       "0                                          Very easy                                                            \n",
       "1                                      Somewhat easy                                                            \n",
       "2                         Neither easy nor difficult                                                            \n",
       "3                                                NaN                                                            \n",
       "4                         Neither easy nor difficult                                                            \n",
       "\n",
       "           ...           \\\n",
       "0          ...            \n",
       "1          ...            \n",
       "2          ...            \n",
       "3          ...            \n",
       "4          ...            \n",
       "\n",
       "  If you have a mental health issue, do you feel that it interferes with your work when being treated effectively?  \\\n",
       "0                               Not applicable to me                                                                 \n",
       "1                                             Rarely                                                                 \n",
       "2                               Not applicable to me                                                                 \n",
       "3                                          Sometimes                                                                 \n",
       "4                                          Sometimes                                                                 \n",
       "\n",
       "  If you have a mental health issue, do you feel that it interferes with your work when NOT being treated effectively?  \\\n",
       "0                               Not applicable to me                                                                     \n",
       "1                                          Sometimes                                                                     \n",
       "2                               Not applicable to me                                                                     \n",
       "3                                          Sometimes                                                                     \n",
       "4                                          Sometimes                                                                     \n",
       "\n",
       "  What is your age? What is your gender? What country do you live in?  \\\n",
       "0                39                 Male               United Kingdom   \n",
       "1                29                 male     United States of America   \n",
       "2                38                Male                United Kingdom   \n",
       "3                43                 male               United Kingdom   \n",
       "4                43               Female     United States of America   \n",
       "\n",
       "  What US state or territory do you live in?  What country do you work in?  \\\n",
       "0                                        NaN                United Kingdom   \n",
       "1                                   Illinois      United States of America   \n",
       "2                                        NaN                United Kingdom   \n",
       "3                                        NaN                United Kingdom   \n",
       "4                                   Illinois      United States of America   \n",
       "\n",
       "  What US state or territory do you work in?  \\\n",
       "0                                        NaN   \n",
       "1                                   Illinois   \n",
       "2                                        NaN   \n",
       "3                                        NaN   \n",
       "4                                   Illinois   \n",
       "\n",
       "  Which of the following best describes your work position?  \\\n",
       "0                                 Back-end Developer          \n",
       "1             Back-end Developer|Front-end Developer          \n",
       "2                                 Back-end Developer          \n",
       "3                               Supervisor/Team Lead          \n",
       "4  Executive Leadership|Supervisor/Team Lead|Dev ...          \n",
       "\n",
       "  Do you work remotely?  \n",
       "0             Sometimes  \n",
       "1                 Never  \n",
       "2                Always  \n",
       "3             Sometimes  \n",
       "4             Sometimes  \n",
       "\n",
       "[5 rows x 63 columns]"
      ]
     },
     "execution_count": 4,
     "metadata": {},
     "output_type": "execute_result"
    }
   ],
   "source": [
    "mh.head()"
   ]
  },
  {
   "cell_type": "code",
   "execution_count": 9,
   "metadata": {},
   "outputs": [
    {
     "data": {
      "text/plain": [
       "(1433, 63)"
      ]
     },
     "execution_count": 9,
     "metadata": {},
     "output_type": "execute_result"
    }
   ],
   "source": [
    "mh.shape"
   ]
  },
  {
   "cell_type": "markdown",
   "metadata": {},
   "source": [
    "Data terdiri dari 63 variabel dan berjumlah sebanyak 1433 responden."
   ]
  },
  {
   "cell_type": "markdown",
   "metadata": {},
   "source": [
    "Nama variabel tidak perlu diubah, jika ingin ambil nama variabel tinggal di define saja kolom ke berapa"
   ]
  },
  {
   "cell_type": "code",
   "execution_count": 7,
   "metadata": {
    "scrolled": false
   },
   "outputs": [
    {
     "data": {
      "text/plain": [
       "Are you self-employed?                                                                                                                                                                 0\n",
       "How many employees does your company or organization have?                                                                                                                           287\n",
       "Is your employer primarily a tech company/organization?                                                                                                                              287\n",
       "Is your primary role within your company related to tech/IT?                                                                                                                        1170\n",
       "Does your employer provide mental health benefits as part of healthcare coverage?                                                                                                    287\n",
       "Do you know the options for mental health care available under your employer-provided coverage?                                                                                      420\n",
       "Has your employer ever formally discussed mental health (for example, as part of a wellness campaign or other official communication)?                                               287\n",
       "Does your employer offer resources to learn more about mental health concerns and options for seeking help?                                                                          287\n",
       "Is your anonymity protected if you choose to take advantage of mental health or substance abuse treatment resources provided by your employer?                                       287\n",
       "If a mental health issue prompted you to request a medical leave from work, asking for that leave would be:                                                                          287\n",
       "Do you think that discussing a mental health disorder with your employer would have negative consequences?                                                                           287\n",
       "Do you think that discussing a physical health issue with your employer would have negative consequences?                                                                            287\n",
       "Would you feel comfortable discussing a mental health disorder with your coworkers?                                                                                                  287\n",
       "Would you feel comfortable discussing a mental health disorder with your direct supervisor(s)?                                                                                       287\n",
       "Do you feel that your employer takes mental health as seriously as physical health?                                                                                                  287\n",
       "Have you heard of or observed negative consequences for co-workers who have been open about mental health issues in your workplace?                                                  287\n",
       "Do you have medical coverage (private insurance or state-provided) which includes treatment of  mental health issues?                                                               1146\n",
       "Do you know local or online resources to seek help for a mental health disorder?                                                                                                    1146\n",
       "If you have been diagnosed or treated for a mental health disorder, do you ever reveal this to clients or business contacts?                                                        1146\n",
       "If you have revealed a mental health issue to a client or business contact, do you believe this has impacted you negatively?                                                        1289\n",
       "If you have been diagnosed or treated for a mental health disorder, do you ever reveal this to coworkers or employees?                                                              1146\n",
       "If you have revealed a mental health issue to a coworker or employee, do you believe this has impacted you negatively?                                                              1146\n",
       "Do you believe your productivity is ever affected by a mental health issue?                                                                                                         1146\n",
       "If yes, what percentage of your work time (time performing primary or secondary job functions) is affected by a mental health issue?                                                1229\n",
       "Do you have previous employers?                                                                                                                                                        0\n",
       "Have your previous employers provided mental health benefits?                                                                                                                        169\n",
       "Were you aware of the options for mental health care provided by your previous employers?                                                                                            169\n",
       "Did your previous employers ever formally discuss mental health (as part of a wellness campaign or other official communication)?                                                    169\n",
       "Did your previous employers provide resources to learn more about mental health issues and how to seek help?                                                                         169\n",
       "Was your anonymity protected if you chose to take advantage of mental health or substance abuse treatment resources with previous employers?                                         169\n",
       "                                                                                                                                                                                    ... \n",
       "Would you have been willing to discuss a mental health issue with your direct supervisor(s)?                                                                                         169\n",
       "Did you feel that your previous employers took mental health as seriously as physical health?                                                                                        169\n",
       "Did you hear of or observe negative consequences for co-workers with mental health issues in your previous workplaces?                                                               169\n",
       "Would you be willing to bring up a physical health issue with a potential employer in an interview?                                                                                    0\n",
       "Why or why not?                                                                                                                                                                      338\n",
       "Would you bring up a mental health issue with a potential employer in an interview?                                                                                                    0\n",
       "Why or why not?.1                                                                                                                                                                    307\n",
       "Do you feel that being identified as a person with a mental health issue would hurt your career?                                                                                       0\n",
       "Do you think that team members/co-workers would view you more negatively if they knew you suffered from a mental health issue?                                                         0\n",
       "How willing would you be to share with friends and family that you have a mental illness?                                                                                              0\n",
       "Have you observed or experienced an unsupportive or badly handled response to a mental health issue in your current or previous workplace?                                            89\n",
       "Have your observations of how another individual who discussed a mental health disorder made you less likely to reveal a mental health issue yourself in your current workplace?     776\n",
       "Do you have a family history of mental illness?                                                                                                                                        0\n",
       "Have you had a mental health disorder in the past?                                                                                                                                     0\n",
       "Do you currently have a mental health disorder?                                                                                                                                        0\n",
       "If yes, what condition(s) have you been diagnosed with?                                                                                                                              865\n",
       "If maybe, what condition(s) do you believe you have?                                                                                                                                1111\n",
       "Have you been diagnosed with a mental health condition by a medical professional?                                                                                                      0\n",
       "If so, what condition(s) were you diagnosed with?                                                                                                                                    722\n",
       "Have you ever sought treatment for a mental health issue from a mental health professional?                                                                                            0\n",
       "If you have a mental health issue, do you feel that it interferes with your work when being treated effectively?                                                                       0\n",
       "If you have a mental health issue, do you feel that it interferes with your work when NOT being treated effectively?                                                                   0\n",
       "What is your age?                                                                                                                                                                      0\n",
       "What is your gender?                                                                                                                                                                   3\n",
       "What country do you live in?                                                                                                                                                           0\n",
       "What US state or territory do you live in?                                                                                                                                           593\n",
       "What country do you work in?                                                                                                                                                           0\n",
       "What US state or territory do you work in?                                                                                                                                           582\n",
       "Which of the following best describes your work position?                                                                                                                              0\n",
       "Do you work remotely?                                                                                                                                                                  0\n",
       "Length: 63, dtype: int64"
      ]
     },
     "execution_count": 7,
     "metadata": {},
     "output_type": "execute_result"
    }
   ],
   "source": [
    "np.sum(mh.isnull())"
   ]
  },
  {
   "cell_type": "code",
   "execution_count": 19,
   "metadata": {},
   "outputs": [],
   "source": [
    "import seaborn as sns\n",
    "import matplotlib.pyplot as plt"
   ]
  },
  {
   "cell_type": "code",
   "execution_count": 22,
   "metadata": {},
   "outputs": [],
   "source": [
    "#melihat status pekerja dari variabel 1 (Are you self-employed?)\n",
    "X1 = mh.iloc[:,0]"
   ]
  },
  {
   "cell_type": "code",
   "execution_count": 23,
   "metadata": {},
   "outputs": [
    {
     "data": {
      "text/plain": [
       "0    0\n",
       "1    0\n",
       "2    0\n",
       "3    1\n",
       "4    0\n",
       "Name: Are you self-employed?, dtype: int64"
      ]
     },
     "execution_count": 23,
     "metadata": {},
     "output_type": "execute_result"
    }
   ],
   "source": [
    "X1.head()"
   ]
  },
  {
   "cell_type": "markdown",
   "metadata": {},
   "source": [
    "0 : non self-employeed\n",
    "1 : self-employeed"
   ]
  },
  {
   "cell_type": "code",
   "execution_count": 25,
   "metadata": {},
   "outputs": [
    {
     "data": {
      "image/png": "[encoded data removed]",
      "text/plain": [
       "<Figure size 432x288 with 1 Axes>"
      ]
     },
     "metadata": {
      "needs_background": "light"
     },
     "output_type": "display_data"
    }
   ],
   "source": [
    "sns.barplot(X1.value_counts().index, X1.value_counts().values)\n",
    "plt.title('Status Pekerja')\n",
    "plt.show()"
   ]
  },
  {
   "cell_type": "code",
   "execution_count": 68,
   "metadata": {},
   "outputs": [
    {
     "data": {
      "text/plain": [
       "pandas.core.frame.DataFrame"
      ]
     },
     "execution_count": 68,
     "metadata": {},
     "output_type": "execute_result"
    }
   ],
   "source": [
    "type(mh)"
   ]
  },
  {
   "cell_type": "markdown",
   "metadata": {},
   "source": [
    "Dari survei yang telah dilakukan, terdapat pekerja yang berstatus self-employed (ditunjukkan oleh kode 1). Selanjutnya analisis akan dibagi menjadi 2, yakni \n",
    "1. analisis terhadap pekerja yang tidak berstatus self-employeed\n",
    "2. analisis terhadap pekerja yang bestatus self-employeed"
   ]
  }
 ],
 "metadata": {
  "kernelspec": {
   "display_name": "Python 3",
   "language": "python",
   "name": "python3"
  },
  "language_info": {
   "codemirror_mode": {
    "name": "ipython",
    "version": 3
   },
   "file_extension": ".py",
   "mimetype": "text/x-python",
   "name": "python",
   "nbconvert_exporter": "python",
   "pygments_lexer": "ipython3",
   "version": "3.7.0"
  }
 },
 "nbformat": 4,
 "nbformat_minor": 2
}
